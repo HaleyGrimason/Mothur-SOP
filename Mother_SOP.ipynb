{
 "cells": [
  {
   "cell_type": "code",
   "execution_count": null,
   "metadata": {},
   "outputs": [],
   "source": [
    "mothur_path = 'C:\\\\Users\\\\Haley\\\\Documents\\\\MiSeq\\\\MiSeq_SOP\\\\mothur\\\\mothur\\\\mothur.exe'\n",
    "inputDir = 'C:\\\\Users\\\\Haley\\\\Documents\\\\MiSeq\\\\MiSeq_SOP\\\\mothur\\\\mothur\\\\Data\\\\Murdochscorpmicrobiome1-90572701\\\\H5arizonensisscorptelson-167465308'\n",
    "outputDir = 'C:\\\\Users\\\\Haley\\\\Documents\\\\MiSeq\\\\MiSeq_SOP\\\\test'\n",
    "processors = 4"
   ]
  },
  {
   "cell_type": "code",
   "execution_count": null,
   "metadata": {},
   "outputs": [],
   "source": [
    "from mothur_py import Mothur\n",
    "m = Mothur(mothur_path=mothur_path)\n",
    "m.verbosity=1"
   ]
  },
  {
   "cell_type": "markdown",
   "metadata": {},
   "source": [
    "# Set directories"
   ]
  },
  {
   "cell_type": "code",
   "execution_count": null,
   "metadata": {},
   "outputs": [],
   "source": [
    "m.set.dir(input=inputDir, output = outputDir)"
   ]
  },
  {
   "cell_type": "code",
   "execution_count": null,
   "metadata": {},
   "outputs": [],
   "source": [
    "m.make.file(type='fastq')"
   ]
  },
  {
   "cell_type": "markdown",
   "metadata": {},
   "source": [
    "# Make and summarize contigs"
   ]
  },
  {
   "cell_type": "code",
   "execution_count": null,
   "metadata": {},
   "outputs": [],
   "source": [
    "m.make.contigs(file='stability.files', processors = processors)"
   ]
  },
  {
   "cell_type": "code",
   "execution_count": null,
   "metadata": {
    "scrolled": true
   },
   "outputs": [],
   "source": [
    "m.summary.seqs(fasta='current')"
   ]
  },
  {
   "cell_type": "code",
   "execution_count": null,
   "metadata": {},
   "outputs": [],
   "source": [
    "with open(outputDir + '\\\\stability.trim.contigs.summary') as f :\n",
    "    lines = [l.strip() for l in f]\n",
    "lines = lines[1:]\n"
   ]
  },
  {
   "cell_type": "code",
   "execution_count": null,
   "metadata": {},
   "outputs": [],
   "source": [
    "lengths = [s.split('\\t')[3] for s in lines]\n",
    "lengths = [int(i) for i in lengths]\n",
    "long = 0\n",
    "for i in lengths:\n",
    "    if i >= 275:\n",
    "        long += 1\n",
    "print(\"Percent of all sequences with length > 275 bp: \" + str(round((long/len(lengths)*100),2)) + '%')"
   ]
  },
  {
   "cell_type": "code",
   "execution_count": null,
   "metadata": {},
   "outputs": [],
   "source": [
    "ambigs = [s.split('\\t')[4] for s in lines]\n",
    "ambigs = [int(i) for i in ambigs]\n",
    "num = 0\n",
    "for i in ambigs:\n",
    "    if i > 0:\n",
    "        num += 1\n",
    "print(\"Percent of all sequences with atleast 1 ambiguous base call: \" + str(round((num/len(ambigs)*100),2)) + '%')"
   ]
  },
  {
   "cell_type": "code",
   "execution_count": null,
   "metadata": {},
   "outputs": [],
   "source": [
    "# import pandas as pd\n",
    "# # create pandas data frame; each column is specified as a python dictionary\n",
    "# x = [1,2,3,4,30]\n",
    "# df = pd.DataFrame({'lengths': x})\n",
    "# print(df.head())\n",
    "\n",
    "# #boxplot example \n",
    "# bp = df.boxplot(column = 'lengths')\n",
    "# bp.set_title(\"Boxplot of lengths\")\n",
    "# bp.set_xlabel(\"\")\n",
    "# bp.set_ylabel(\"read length\")\n",
    "\n",
    "# # barplot example\n",
    "# bp = df.plot.bar(y = 'lengths', legend = False)\n",
    "# bp.set_title(\"Read lengths\")\n",
    "# bp.set_ylabel(\"length\")\n",
    "# bp.set_xlabel(\"read #\")"
   ]
  },
  {
   "cell_type": "markdown",
   "metadata": {},
   "source": [
    "## Set Parameters For Screening Step"
   ]
  },
  {
   "cell_type": "code",
   "execution_count": null,
   "metadata": {},
   "outputs": [],
   "source": [
    "maxambig=0\n",
    "maxlength=275"
   ]
  },
  {
   "cell_type": "code",
   "execution_count": null,
   "metadata": {},
   "outputs": [],
   "source": [
    "m.screen.seqs(fasta='current',group = 'current', maxambig=maxambig, maxlength=maxlength)"
   ]
  },
  {
   "cell_type": "markdown",
   "metadata": {},
   "source": [
    "## Merge Duplicate Sequences"
   ]
  },
  {
   "cell_type": "code",
   "execution_count": null,
   "metadata": {},
   "outputs": [],
   "source": [
    "m.unique.seqs(fasta='current')"
   ]
  },
  {
   "cell_type": "code",
   "execution_count": null,
   "metadata": {},
   "outputs": [],
   "source": [
    "m.count.seqs(name='current', group='current')"
   ]
  },
  {
   "cell_type": "code",
   "execution_count": null,
   "metadata": {},
   "outputs": [],
   "source": [
    "with open(outputDir + '\\\\stability.trim.contigs.good.count_table') as f:\n",
    "    lines = [l.strip() for l in f]\n",
    "lines = lines[1:]\n",
    "\n",
    "seqs = [s.split('\\t')[1] for s in lines]\n",
    "seqs = [int(i) for i in seqs]\n",
    "\n",
    "uniques = len(lines)\n",
    "total = sum(seqs)\n",
    "\n",
    "print(str(uniques) + \" out of \" + str(total) + \" sequences are unique.\")"
   ]
  },
  {
   "cell_type": "markdown",
   "metadata": {},
   "source": [
    "## Align Sequences to Reference Alignment"
   ]
  },
  {
   "cell_type": "code",
   "execution_count": null,
   "metadata": {},
   "outputs": [],
   "source": [
    "m.pcr.seqs(fasta='silva.bacteria.fasta', start=11894, end=25319, keepdots='F')"
   ]
  },
  {
   "cell_type": "code",
   "execution_count": null,
   "metadata": {},
   "outputs": [],
   "source": [
    "m.align.seqs(fasta='stability.trim.contigs.good.unique.fasta', reference= 'silva.bacteria.pcr.fasta')"
   ]
  },
  {
   "cell_type": "markdown",
   "metadata": {},
   "source": [
    "## Re-screen to Remove Sequences With Indels and Homopolymers Longer than 8 Bases"
   ]
  },
  {
   "cell_type": "code",
   "execution_count": null,
   "metadata": {},
   "outputs": [],
   "source": [
    "m.summary.seqs(fasta='current', count = 'current')"
   ]
  },
  {
   "cell_type": "code",
   "execution_count": null,
   "metadata": {},
   "outputs": [],
   "source": [
    "m.screen.seqs(fasta='current', count='current', summary='current', \n",
    "start=1968, end=11550, maxhomop=8)"
   ]
  },
  {
   "cell_type": "markdown",
   "metadata": {},
   "source": [
    "# Filter sequences to remove columns that only contain gaps and extra gaps at ends"
   ]
  },
  {
   "cell_type": "code",
   "execution_count": null,
   "metadata": {},
   "outputs": [],
   "source": [
    "m.filter.seqs(fasta='current', vertical='T', trump='.')"
   ]
  },
  {
   "cell_type": "markdown",
   "metadata": {},
   "source": [
    "## Merge any new duplicate sequences"
   ]
  },
  {
   "cell_type": "code",
   "execution_count": null,
   "metadata": {},
   "outputs": [],
   "source": [
    "m.unique.seqs(fasta='current', count='current')"
   ]
  },
  {
   "cell_type": "markdown",
   "metadata": {},
   "source": [
    "## Pre-cluster (merge) sequences within 2 bases of each other"
   ]
  },
  {
   "cell_type": "code",
   "execution_count": null,
   "metadata": {},
   "outputs": [],
   "source": [
    "m.pre.cluster(fasta='current', count = 'current', diffs = 2)"
   ]
  },
  {
   "cell_type": "code",
   "execution_count": null,
   "metadata": {},
   "outputs": [],
   "source": [
    "with open(outputDir + '\\\\stability.trim.contigs.good.unique.good.filter.unique.precluster.count_table') as f:\n",
    "    lines = [l.strip() for l in f]\n",
    "lines = lines[1:]\n",
    "\n",
    "seqs = [s.split('\\t')[1] for s in lines]\n",
    "seqs = [int(i) for i in seqs]\n",
    "\n",
    "uniques = len(lines)\n",
    "total = sum(seqs)\n",
    "\n",
    "print(str(uniques) + \" out of \" + str(total) + \" sequences are unique.\")"
   ]
  },
  {
   "cell_type": "markdown",
   "metadata": {},
   "source": [
    "## Search for and remove chimeric sequences"
   ]
  },
  {
   "cell_type": "code",
   "execution_count": null,
   "metadata": {
    "scrolled": true
   },
   "outputs": [],
   "source": [
    "m.chimera.uchime(fasta = 'stability.trim.contigs.good.unique.good.filter.unique.precluster.fasta', count = 'stability.trim.contigs.good.unique.good.filter.unique.precluster.count_table', dereplicate = 't')"
   ]
  },
  {
   "cell_type": "code",
   "execution_count": null,
   "metadata": {},
   "outputs": [],
   "source": [
    "m.remove.seqs(fasta='current', accnos='current', count='current')"
   ]
  },
  {
   "cell_type": "markdown",
   "metadata": {},
   "source": [
    "# Classify sequences based on taxonomy to remove undesirables "
   ]
  },
  {
   "cell_type": "code",
   "execution_count": null,
   "metadata": {
    "scrolled": true
   },
   "outputs": [],
   "source": [
    "m.classify.seqs(fasta='current', count='current', reference='trainset9_032012.pds.fasta', taxonomy='trainset9_032012.pds.tax', cutoff=80)"
   ]
  },
  {
   "cell_type": "code",
   "execution_count": null,
   "metadata": {
    "scrolled": true
   },
   "outputs": [],
   "source": [
    "m.remove.lineage(fasta='current', count='current', taxonomy='current', taxon='Chloroplast-Mitochondria-unknown-Archaea-Eukaryota')"
   ]
  },
  {
   "cell_type": "code",
   "execution_count": null,
   "metadata": {},
   "outputs": [],
   "source": [
    "m.summary.tax(taxonomy='current', count='current')"
   ]
  },
  {
   "cell_type": "markdown",
   "metadata": {},
   "source": [
    "## Cluster sequences and generate distance matrix and OTUs"
   ]
  },
  {
   "cell_type": "code",
   "execution_count": null,
   "metadata": {},
   "outputs": [],
   "source": [
    "m.cluster.split(fasta='stability.trim.contigs.good.unique.good.filter.unique.precluster.pick.pick.fasta', count='stability.trim.contigs.good.unique.good.filter.unique.precluster.denovo.uchime.pick.pick.pick.count_table', taxonomy='stability.trim.contigs.good.unique.good.filter.unique.precluster.pick.pds.wang.pick.taxonomy', splitmethod='classify', taxlevel=4, cutoff=0.03)"
   ]
  },
  {
   "cell_type": "markdown",
   "metadata": {},
   "source": [
    "## Get consensus tanomy of OTUs"
   ]
  },
  {
   "cell_type": "code",
   "execution_count": null,
   "metadata": {
    "scrolled": true
   },
   "outputs": [],
   "source": [
    "m.classify.otu(list='current', count='current', taxonomy='current')"
   ]
  }
 ],
 "metadata": {
  "kernelspec": {
   "display_name": "Python 3",
   "language": "python",
   "name": "python3"
  },
  "language_info": {
   "codemirror_mode": {
    "name": "ipython",
    "version": 3
   },
   "file_extension": ".py",
   "mimetype": "text/x-python",
   "name": "python",
   "nbconvert_exporter": "python",
   "pygments_lexer": "ipython3",
   "version": "3.7.1"
  }
 },
 "nbformat": 4,
 "nbformat_minor": 2
}
